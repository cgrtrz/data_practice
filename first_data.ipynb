{
 "cells": [
  {
   "cell_type": "code",
   "execution_count": 1,
   "id": "48b1a30c",
   "metadata": {
    "execution": {
     "iopub.execute_input": "2023-12-18T18:35:58.170287Z",
     "iopub.status.busy": "2023-12-18T18:35:58.169321Z",
     "iopub.status.idle": "2023-12-18T18:35:59.276811Z",
     "shell.execute_reply": "2023-12-18T18:35:59.275214Z"
    },
    "papermill": {
     "duration": 1.118452,
     "end_time": "2023-12-18T18:35:59.279929",
     "exception": false,
     "start_time": "2023-12-18T18:35:58.161477",
     "status": "completed"
    },
    "tags": []
   },
   "outputs": [],
   "source": [
    "import numpy as np\n",
    "import matplotlib as plt\n",
    "import pandas as pd\n",
    "import os"
   ]
  },
  {
   "cell_type": "code",
   "execution_count": 2,
   "id": "31d9e9ae",
   "metadata": {
    "execution": {
     "iopub.execute_input": "2023-12-18T18:35:59.292217Z",
     "iopub.status.busy": "2023-12-18T18:35:59.291639Z",
     "iopub.status.idle": "2023-12-18T18:35:59.308972Z",
     "shell.execute_reply": "2023-12-18T18:35:59.307244Z"
    },
    "papermill": {
     "duration": 0.026898,
     "end_time": "2023-12-18T18:35:59.312294",
     "exception": false,
     "start_time": "2023-12-18T18:35:59.285396",
     "status": "completed"
    },
    "tags": []
   },
   "outputs": [
    {
     "name": "stdout",
     "output_type": "stream",
     "text": [
      "/kaggle/input/elecrict-vehicle/Electric_Vehicle_Population_Data.csv\n"
     ]
    }
   ],
   "source": [
    "for dirname, _, filenames in os.walk('/kaggle/input'):\n",
    "    for filename in filenames:\n",
    "        print(os.path.join(dirname, filename))"
   ]
  },
  {
   "cell_type": "code",
   "execution_count": 3,
   "id": "ca6c8e71",
   "metadata": {
    "execution": {
     "iopub.execute_input": "2023-12-18T18:35:59.325768Z",
     "iopub.status.busy": "2023-12-18T18:35:59.325322Z",
     "iopub.status.idle": "2023-12-18T18:36:00.757906Z",
     "shell.execute_reply": "2023-12-18T18:36:00.756557Z"
    },
    "papermill": {
     "duration": 1.443429,
     "end_time": "2023-12-18T18:36:00.761463",
     "exception": false,
     "start_time": "2023-12-18T18:35:59.318034",
     "status": "completed"
    },
    "tags": []
   },
   "outputs": [
    {
     "data": {
      "text/html": [
       "<div>\n",
       "<style scoped>\n",
       "    .dataframe tbody tr th:only-of-type {\n",
       "        vertical-align: middle;\n",
       "    }\n",
       "\n",
       "    .dataframe tbody tr th {\n",
       "        vertical-align: top;\n",
       "    }\n",
       "\n",
       "    .dataframe thead th {\n",
       "        text-align: right;\n",
       "    }\n",
       "</style>\n",
       "<table border=\"1\" class=\"dataframe\">\n",
       "  <thead>\n",
       "    <tr style=\"text-align: right;\">\n",
       "      <th></th>\n",
       "      <th>VIN (1-10)</th>\n",
       "      <th>County</th>\n",
       "      <th>City</th>\n",
       "      <th>State</th>\n",
       "      <th>Postal Code</th>\n",
       "      <th>Model Year</th>\n",
       "      <th>Make</th>\n",
       "      <th>Model</th>\n",
       "      <th>Electric Vehicle Type</th>\n",
       "      <th>Clean Alternative Fuel Vehicle (CAFV) Eligibility</th>\n",
       "      <th>Electric Range</th>\n",
       "      <th>Base MSRP</th>\n",
       "      <th>Legislative District</th>\n",
       "      <th>DOL Vehicle ID</th>\n",
       "      <th>Vehicle Location</th>\n",
       "      <th>Electric Utility</th>\n",
       "      <th>2020 Census Tract</th>\n",
       "    </tr>\n",
       "  </thead>\n",
       "  <tbody>\n",
       "    <tr>\n",
       "      <th>0</th>\n",
       "      <td>2C4RC1N71H</td>\n",
       "      <td>Kitsap</td>\n",
       "      <td>Bremerton</td>\n",
       "      <td>WA</td>\n",
       "      <td>98311.0</td>\n",
       "      <td>2017</td>\n",
       "      <td>CHRYSLER</td>\n",
       "      <td>PACIFICA</td>\n",
       "      <td>Plug-in Hybrid Electric Vehicle (PHEV)</td>\n",
       "      <td>Clean Alternative Fuel Vehicle Eligible</td>\n",
       "      <td>33</td>\n",
       "      <td>0</td>\n",
       "      <td>23.0</td>\n",
       "      <td>349437882</td>\n",
       "      <td>POINT (-122.6466274 47.6341188)</td>\n",
       "      <td>PUGET SOUND ENERGY INC</td>\n",
       "      <td>5.303509e+10</td>\n",
       "    </tr>\n",
       "    <tr>\n",
       "      <th>1</th>\n",
       "      <td>2C4RC1N7XL</td>\n",
       "      <td>Stevens</td>\n",
       "      <td>Colville</td>\n",
       "      <td>WA</td>\n",
       "      <td>99114.0</td>\n",
       "      <td>2020</td>\n",
       "      <td>CHRYSLER</td>\n",
       "      <td>PACIFICA</td>\n",
       "      <td>Plug-in Hybrid Electric Vehicle (PHEV)</td>\n",
       "      <td>Clean Alternative Fuel Vehicle Eligible</td>\n",
       "      <td>32</td>\n",
       "      <td>0</td>\n",
       "      <td>7.0</td>\n",
       "      <td>154690532</td>\n",
       "      <td>POINT (-117.90431 48.547075)</td>\n",
       "      <td>AVISTA CORP</td>\n",
       "      <td>5.306595e+10</td>\n",
       "    </tr>\n",
       "    <tr>\n",
       "      <th>2</th>\n",
       "      <td>KNDC3DLCXN</td>\n",
       "      <td>Yakima</td>\n",
       "      <td>Yakima</td>\n",
       "      <td>WA</td>\n",
       "      <td>98908.0</td>\n",
       "      <td>2022</td>\n",
       "      <td>KIA</td>\n",
       "      <td>EV6</td>\n",
       "      <td>Battery Electric Vehicle (BEV)</td>\n",
       "      <td>Eligibility unknown as battery range has not b...</td>\n",
       "      <td>0</td>\n",
       "      <td>0</td>\n",
       "      <td>14.0</td>\n",
       "      <td>219969144</td>\n",
       "      <td>POINT (-120.6027202 46.5965625)</td>\n",
       "      <td>PACIFICORP</td>\n",
       "      <td>5.307700e+10</td>\n",
       "    </tr>\n",
       "    <tr>\n",
       "      <th>3</th>\n",
       "      <td>5YJ3E1EA0J</td>\n",
       "      <td>Kitsap</td>\n",
       "      <td>Bainbridge Island</td>\n",
       "      <td>WA</td>\n",
       "      <td>98110.0</td>\n",
       "      <td>2018</td>\n",
       "      <td>TESLA</td>\n",
       "      <td>MODEL 3</td>\n",
       "      <td>Battery Electric Vehicle (BEV)</td>\n",
       "      <td>Clean Alternative Fuel Vehicle Eligible</td>\n",
       "      <td>215</td>\n",
       "      <td>0</td>\n",
       "      <td>23.0</td>\n",
       "      <td>476786887</td>\n",
       "      <td>POINT (-122.5235781 47.6293323)</td>\n",
       "      <td>PUGET SOUND ENERGY INC</td>\n",
       "      <td>5.303509e+10</td>\n",
       "    </tr>\n",
       "    <tr>\n",
       "      <th>4</th>\n",
       "      <td>1N4AZ1CP7J</td>\n",
       "      <td>Thurston</td>\n",
       "      <td>Tumwater</td>\n",
       "      <td>WA</td>\n",
       "      <td>98501.0</td>\n",
       "      <td>2018</td>\n",
       "      <td>NISSAN</td>\n",
       "      <td>LEAF</td>\n",
       "      <td>Battery Electric Vehicle (BEV)</td>\n",
       "      <td>Clean Alternative Fuel Vehicle Eligible</td>\n",
       "      <td>151</td>\n",
       "      <td>0</td>\n",
       "      <td>35.0</td>\n",
       "      <td>201185253</td>\n",
       "      <td>POINT (-122.89692 47.043535)</td>\n",
       "      <td>PUGET SOUND ENERGY INC</td>\n",
       "      <td>5.306701e+10</td>\n",
       "    </tr>\n",
       "  </tbody>\n",
       "</table>\n",
       "</div>"
      ],
      "text/plain": [
       "   VIN (1-10)    County               City State  Postal Code  Model Year  \\\n",
       "0  2C4RC1N71H    Kitsap          Bremerton    WA      98311.0        2017   \n",
       "1  2C4RC1N7XL   Stevens           Colville    WA      99114.0        2020   \n",
       "2  KNDC3DLCXN    Yakima             Yakima    WA      98908.0        2022   \n",
       "3  5YJ3E1EA0J    Kitsap  Bainbridge Island    WA      98110.0        2018   \n",
       "4  1N4AZ1CP7J  Thurston           Tumwater    WA      98501.0        2018   \n",
       "\n",
       "       Make     Model                   Electric Vehicle Type  \\\n",
       "0  CHRYSLER  PACIFICA  Plug-in Hybrid Electric Vehicle (PHEV)   \n",
       "1  CHRYSLER  PACIFICA  Plug-in Hybrid Electric Vehicle (PHEV)   \n",
       "2       KIA       EV6          Battery Electric Vehicle (BEV)   \n",
       "3     TESLA   MODEL 3          Battery Electric Vehicle (BEV)   \n",
       "4    NISSAN      LEAF          Battery Electric Vehicle (BEV)   \n",
       "\n",
       "   Clean Alternative Fuel Vehicle (CAFV) Eligibility  Electric Range  \\\n",
       "0            Clean Alternative Fuel Vehicle Eligible              33   \n",
       "1            Clean Alternative Fuel Vehicle Eligible              32   \n",
       "2  Eligibility unknown as battery range has not b...               0   \n",
       "3            Clean Alternative Fuel Vehicle Eligible             215   \n",
       "4            Clean Alternative Fuel Vehicle Eligible             151   \n",
       "\n",
       "   Base MSRP  Legislative District  DOL Vehicle ID  \\\n",
       "0          0                  23.0       349437882   \n",
       "1          0                   7.0       154690532   \n",
       "2          0                  14.0       219969144   \n",
       "3          0                  23.0       476786887   \n",
       "4          0                  35.0       201185253   \n",
       "\n",
       "                  Vehicle Location        Electric Utility  2020 Census Tract  \n",
       "0  POINT (-122.6466274 47.6341188)  PUGET SOUND ENERGY INC       5.303509e+10  \n",
       "1     POINT (-117.90431 48.547075)             AVISTA CORP       5.306595e+10  \n",
       "2  POINT (-120.6027202 46.5965625)              PACIFICORP       5.307700e+10  \n",
       "3  POINT (-122.5235781 47.6293323)  PUGET SOUND ENERGY INC       5.303509e+10  \n",
       "4     POINT (-122.89692 47.043535)  PUGET SOUND ENERGY INC       5.306701e+10  "
      ]
     },
     "execution_count": 3,
     "metadata": {},
     "output_type": "execute_result"
    }
   ],
   "source": [
    "df=pd.read_csv('/kaggle/input/elecrict-vehicle/Electric_Vehicle_Population_Data.csv')\n",
    "df.head()"
   ]
  },
  {
   "cell_type": "code",
   "execution_count": 4,
   "id": "191727ff",
   "metadata": {
    "execution": {
     "iopub.execute_input": "2023-12-18T18:36:00.776889Z",
     "iopub.status.busy": "2023-12-18T18:36:00.776440Z",
     "iopub.status.idle": "2023-12-18T18:36:00.976901Z",
     "shell.execute_reply": "2023-12-18T18:36:00.975599Z"
    },
    "papermill": {
     "duration": 0.213114,
     "end_time": "2023-12-18T18:36:00.981414",
     "exception": false,
     "start_time": "2023-12-18T18:36:00.768300",
     "status": "completed"
    },
    "tags": []
   },
   "outputs": [
    {
     "name": "stdout",
     "output_type": "stream",
     "text": [
      "<class 'pandas.core.frame.DataFrame'>\n",
      "RangeIndex: 159467 entries, 0 to 159466\n",
      "Data columns (total 17 columns):\n",
      " #   Column                                             Non-Null Count   Dtype  \n",
      "---  ------                                             --------------   -----  \n",
      " 0   VIN (1-10)                                         159467 non-null  object \n",
      " 1   County                                             159463 non-null  object \n",
      " 2   City                                               159463 non-null  object \n",
      " 3   State                                              159467 non-null  object \n",
      " 4   Postal Code                                        159463 non-null  float64\n",
      " 5   Model Year                                         159467 non-null  int64  \n",
      " 6   Make                                               159467 non-null  object \n",
      " 7   Model                                              159467 non-null  object \n",
      " 8   Electric Vehicle Type                              159467 non-null  object \n",
      " 9   Clean Alternative Fuel Vehicle (CAFV) Eligibility  159467 non-null  object \n",
      " 10  Electric Range                                     159467 non-null  int64  \n",
      " 11  Base MSRP                                          159467 non-null  int64  \n",
      " 12  Legislative District                               159106 non-null  float64\n",
      " 13  DOL Vehicle ID                                     159467 non-null  int64  \n",
      " 14  Vehicle Location                                   159458 non-null  object \n",
      " 15  Electric Utility                                   159463 non-null  object \n",
      " 16  2020 Census Tract                                  159463 non-null  float64\n",
      "dtypes: float64(3), int64(4), object(10)\n",
      "memory usage: 20.7+ MB\n"
     ]
    }
   ],
   "source": [
    "df.info()"
   ]
  },
  {
   "cell_type": "code",
   "execution_count": 5,
   "id": "cd749972",
   "metadata": {
    "execution": {
     "iopub.execute_input": "2023-12-18T18:36:00.996408Z",
     "iopub.status.busy": "2023-12-18T18:36:00.995962Z",
     "iopub.status.idle": "2023-12-18T18:36:01.092793Z",
     "shell.execute_reply": "2023-12-18T18:36:01.091321Z"
    },
    "papermill": {
     "duration": 0.10733,
     "end_time": "2023-12-18T18:36:01.095462",
     "exception": false,
     "start_time": "2023-12-18T18:36:00.988132",
     "status": "completed"
    },
    "tags": []
   },
   "outputs": [
    {
     "data": {
      "text/html": [
       "<div>\n",
       "<style scoped>\n",
       "    .dataframe tbody tr th:only-of-type {\n",
       "        vertical-align: middle;\n",
       "    }\n",
       "\n",
       "    .dataframe tbody tr th {\n",
       "        vertical-align: top;\n",
       "    }\n",
       "\n",
       "    .dataframe thead th {\n",
       "        text-align: right;\n",
       "    }\n",
       "</style>\n",
       "<table border=\"1\" class=\"dataframe\">\n",
       "  <thead>\n",
       "    <tr style=\"text-align: right;\">\n",
       "      <th></th>\n",
       "      <th>Postal Code</th>\n",
       "      <th>Model Year</th>\n",
       "      <th>Electric Range</th>\n",
       "      <th>Base MSRP</th>\n",
       "      <th>Legislative District</th>\n",
       "      <th>DOL Vehicle ID</th>\n",
       "      <th>2020 Census Tract</th>\n",
       "    </tr>\n",
       "  </thead>\n",
       "  <tbody>\n",
       "    <tr>\n",
       "      <th>count</th>\n",
       "      <td>159463.000000</td>\n",
       "      <td>159467.000000</td>\n",
       "      <td>159467.000000</td>\n",
       "      <td>159467.00000</td>\n",
       "      <td>159106.000000</td>\n",
       "      <td>1.594670e+05</td>\n",
       "      <td>1.594630e+05</td>\n",
       "    </tr>\n",
       "    <tr>\n",
       "      <th>mean</th>\n",
       "      <td>98170.373635</td>\n",
       "      <td>2020.192510</td>\n",
       "      <td>64.283319</td>\n",
       "      <td>1227.63716</td>\n",
       "      <td>29.261675</td>\n",
       "      <td>2.140242e+08</td>\n",
       "      <td>5.297287e+10</td>\n",
       "    </tr>\n",
       "    <tr>\n",
       "      <th>std</th>\n",
       "      <td>2453.354932</td>\n",
       "      <td>3.010564</td>\n",
       "      <td>94.634277</td>\n",
       "      <td>8930.03468</td>\n",
       "      <td>14.843878</td>\n",
       "      <td>7.959275e+07</td>\n",
       "      <td>1.621526e+09</td>\n",
       "    </tr>\n",
       "    <tr>\n",
       "      <th>min</th>\n",
       "      <td>1730.000000</td>\n",
       "      <td>1997.000000</td>\n",
       "      <td>0.000000</td>\n",
       "      <td>0.00000</td>\n",
       "      <td>1.000000</td>\n",
       "      <td>4.385000e+03</td>\n",
       "      <td>1.081042e+09</td>\n",
       "    </tr>\n",
       "    <tr>\n",
       "      <th>25%</th>\n",
       "      <td>98052.000000</td>\n",
       "      <td>2018.000000</td>\n",
       "      <td>0.000000</td>\n",
       "      <td>0.00000</td>\n",
       "      <td>18.000000</td>\n",
       "      <td>1.731016e+08</td>\n",
       "      <td>5.303301e+10</td>\n",
       "    </tr>\n",
       "    <tr>\n",
       "      <th>50%</th>\n",
       "      <td>98122.000000</td>\n",
       "      <td>2021.000000</td>\n",
       "      <td>14.000000</td>\n",
       "      <td>0.00000</td>\n",
       "      <td>33.000000</td>\n",
       "      <td>2.198450e+08</td>\n",
       "      <td>5.303303e+10</td>\n",
       "    </tr>\n",
       "    <tr>\n",
       "      <th>75%</th>\n",
       "      <td>98370.000000</td>\n",
       "      <td>2023.000000</td>\n",
       "      <td>84.000000</td>\n",
       "      <td>0.00000</td>\n",
       "      <td>43.000000</td>\n",
       "      <td>2.448363e+08</td>\n",
       "      <td>5.305307e+10</td>\n",
       "    </tr>\n",
       "    <tr>\n",
       "      <th>max</th>\n",
       "      <td>99577.000000</td>\n",
       "      <td>2024.000000</td>\n",
       "      <td>337.000000</td>\n",
       "      <td>845000.00000</td>\n",
       "      <td>49.000000</td>\n",
       "      <td>4.792548e+08</td>\n",
       "      <td>5.603300e+10</td>\n",
       "    </tr>\n",
       "  </tbody>\n",
       "</table>\n",
       "</div>"
      ],
      "text/plain": [
       "         Postal Code     Model Year  Electric Range     Base MSRP  \\\n",
       "count  159463.000000  159467.000000   159467.000000  159467.00000   \n",
       "mean    98170.373635    2020.192510       64.283319    1227.63716   \n",
       "std      2453.354932       3.010564       94.634277    8930.03468   \n",
       "min      1730.000000    1997.000000        0.000000       0.00000   \n",
       "25%     98052.000000    2018.000000        0.000000       0.00000   \n",
       "50%     98122.000000    2021.000000       14.000000       0.00000   \n",
       "75%     98370.000000    2023.000000       84.000000       0.00000   \n",
       "max     99577.000000    2024.000000      337.000000  845000.00000   \n",
       "\n",
       "       Legislative District  DOL Vehicle ID  2020 Census Tract  \n",
       "count         159106.000000    1.594670e+05       1.594630e+05  \n",
       "mean              29.261675    2.140242e+08       5.297287e+10  \n",
       "std               14.843878    7.959275e+07       1.621526e+09  \n",
       "min                1.000000    4.385000e+03       1.081042e+09  \n",
       "25%               18.000000    1.731016e+08       5.303301e+10  \n",
       "50%               33.000000    2.198450e+08       5.303303e+10  \n",
       "75%               43.000000    2.448363e+08       5.305307e+10  \n",
       "max               49.000000    4.792548e+08       5.603300e+10  "
      ]
     },
     "execution_count": 5,
     "metadata": {},
     "output_type": "execute_result"
    }
   ],
   "source": [
    "df.describe()"
   ]
  },
  {
   "cell_type": "code",
   "execution_count": 6,
   "id": "672f6fc7",
   "metadata": {
    "execution": {
     "iopub.execute_input": "2023-12-18T18:36:01.111411Z",
     "iopub.status.busy": "2023-12-18T18:36:01.110836Z",
     "iopub.status.idle": "2023-12-18T18:36:01.119179Z",
     "shell.execute_reply": "2023-12-18T18:36:01.117764Z"
    },
    "papermill": {
     "duration": 0.019901,
     "end_time": "2023-12-18T18:36:01.121760",
     "exception": false,
     "start_time": "2023-12-18T18:36:01.101859",
     "status": "completed"
    },
    "tags": []
   },
   "outputs": [
    {
     "data": {
      "text/plain": [
       "(159467, 17)"
      ]
     },
     "execution_count": 6,
     "metadata": {},
     "output_type": "execute_result"
    }
   ],
   "source": [
    "df.shape"
   ]
  },
  {
   "cell_type": "code",
   "execution_count": 7,
   "id": "56ddd1cd",
   "metadata": {
    "execution": {
     "iopub.execute_input": "2023-12-18T18:36:01.137594Z",
     "iopub.status.busy": "2023-12-18T18:36:01.136080Z",
     "iopub.status.idle": "2023-12-18T18:36:01.145752Z",
     "shell.execute_reply": "2023-12-18T18:36:01.144278Z"
    },
    "papermill": {
     "duration": 0.020341,
     "end_time": "2023-12-18T18:36:01.148415",
     "exception": false,
     "start_time": "2023-12-18T18:36:01.128074",
     "status": "completed"
    },
    "tags": []
   },
   "outputs": [
    {
     "data": {
      "text/plain": [
       "Index(['VIN (1-10)', 'County', 'City', 'State', 'Postal Code', 'Model Year',\n",
       "       'Make', 'Model', 'Electric Vehicle Type',\n",
       "       'Clean Alternative Fuel Vehicle (CAFV) Eligibility', 'Electric Range',\n",
       "       'Base MSRP', 'Legislative District', 'DOL Vehicle ID',\n",
       "       'Vehicle Location', 'Electric Utility', '2020 Census Tract'],\n",
       "      dtype='object')"
      ]
     },
     "execution_count": 7,
     "metadata": {},
     "output_type": "execute_result"
    }
   ],
   "source": [
    "df.columns"
   ]
  },
  {
   "cell_type": "code",
   "execution_count": 8,
   "id": "2e58f231",
   "metadata": {
    "execution": {
     "iopub.execute_input": "2023-12-18T18:36:01.164103Z",
     "iopub.status.busy": "2023-12-18T18:36:01.163662Z",
     "iopub.status.idle": "2023-12-18T18:36:01.173086Z",
     "shell.execute_reply": "2023-12-18T18:36:01.171278Z"
    },
    "papermill": {
     "duration": 0.020894,
     "end_time": "2023-12-18T18:36:01.175883",
     "exception": false,
     "start_time": "2023-12-18T18:36:01.154989",
     "status": "completed"
    },
    "tags": []
   },
   "outputs": [
    {
     "name": "stdout",
     "output_type": "stream",
     "text": [
      "0          CHRYSLER\n",
      "1          CHRYSLER\n",
      "2               KIA\n",
      "3             TESLA\n",
      "4            NISSAN\n",
      "            ...    \n",
      "159462      HYUNDAI\n",
      "159463    CHEVROLET\n",
      "159464        VOLVO\n",
      "159465        TESLA\n",
      "159466        TESLA\n",
      "Name: Make, Length: 159467, dtype: object\n"
     ]
    }
   ],
   "source": [
    "single_column = df['Make']\n",
    "print(single_column)"
   ]
  },
  {
   "cell_type": "code",
   "execution_count": 9,
   "id": "7d2e792b",
   "metadata": {
    "execution": {
     "iopub.execute_input": "2023-12-18T18:36:01.191922Z",
     "iopub.status.busy": "2023-12-18T18:36:01.191240Z",
     "iopub.status.idle": "2023-12-18T18:36:01.209230Z",
     "shell.execute_reply": "2023-12-18T18:36:01.207945Z"
    },
    "papermill": {
     "duration": 0.029497,
     "end_time": "2023-12-18T18:36:01.212108",
     "exception": false,
     "start_time": "2023-12-18T18:36:01.182611",
     "status": "completed"
    },
    "tags": []
   },
   "outputs": [
    {
     "name": "stdout",
     "output_type": "stream",
     "text": [
      "             Make     Model\n",
      "0        CHRYSLER  PACIFICA\n",
      "1        CHRYSLER  PACIFICA\n",
      "2             KIA       EV6\n",
      "3           TESLA   MODEL 3\n",
      "4          NISSAN      LEAF\n",
      "...           ...       ...\n",
      "159462    HYUNDAI    TUCSON\n",
      "159463  CHEVROLET   BOLT EV\n",
      "159464      VOLVO      XC90\n",
      "159465      TESLA   MODEL 3\n",
      "159466      TESLA   MODEL Y\n",
      "\n",
      "[159467 rows x 2 columns]\n"
     ]
    }
   ],
   "source": [
    "multiple_columns = df[['Make', 'Model']]\n",
    "print(multiple_columns)"
   ]
  },
  {
   "cell_type": "code",
   "execution_count": 10,
   "id": "43dfa7aa",
   "metadata": {
    "execution": {
     "iopub.execute_input": "2023-12-18T18:36:01.227728Z",
     "iopub.status.busy": "2023-12-18T18:36:01.227286Z",
     "iopub.status.idle": "2023-12-18T18:36:01.293631Z",
     "shell.execute_reply": "2023-12-18T18:36:01.292380Z"
    },
    "papermill": {
     "duration": 0.078055,
     "end_time": "2023-12-18T18:36:01.296809",
     "exception": false,
     "start_time": "2023-12-18T18:36:01.218754",
     "status": "completed"
    },
    "tags": []
   },
   "outputs": [
    {
     "name": "stdout",
     "output_type": "stream",
     "text": [
      "3746\n",
      "         Make Model\n",
      "15      VOLVO  XC90\n",
      "109     VOLVO  XC90\n",
      "158     VOLVO  XC40\n",
      "244     VOLVO  XC60\n",
      "261     VOLVO   C40\n",
      "...       ...   ...\n",
      "159296  VOLVO  XC90\n",
      "159304  VOLVO  XC40\n",
      "159366  VOLVO  XC90\n",
      "159430  VOLVO  XC40\n",
      "159464  VOLVO  XC90\n",
      "\n",
      "[3746 rows x 2 columns]\n",
      "{'S60', 'XC60', 'XC40', 'C40', 'XC90', 'V60', 'S90'}\n",
      "S60 \t:  130\n",
      "XC60 \t:  981\n",
      "XC40 \t:  902\n",
      "C40 \t:  367\n",
      "XC90 \t:  1303\n",
      "V60 \t:  36\n",
      "S90 \t:  27\n"
     ]
    }
   ],
   "source": [
    "Volvo = df[df['Make'] == 'VOLVO']\n",
    "print(Volvo['Make'].count())\n",
    "print(Volvo[['Make', 'Model']])\n",
    "Volvo_set=set(Volvo['Model'])\n",
    "print(Volvo_set)\n",
    "df_volvo=[]\n",
    "for volvo_model in Volvo_set:\n",
    "    #print(volvo_model)\n",
    "    df_volvo=Volvo[Volvo['Model']==volvo_model]\n",
    "    print(volvo_model, '\\t: ', df_volvo['Model'].count())"
   ]
  },
  {
   "cell_type": "code",
   "execution_count": 11,
   "id": "c3c71830",
   "metadata": {
    "execution": {
     "iopub.execute_input": "2023-12-18T18:36:01.312915Z",
     "iopub.status.busy": "2023-12-18T18:36:01.312460Z",
     "iopub.status.idle": "2023-12-18T18:36:02.557776Z",
     "shell.execute_reply": "2023-12-18T18:36:02.555972Z"
    },
    "papermill": {
     "duration": 1.257192,
     "end_time": "2023-12-18T18:36:02.560805",
     "exception": false,
     "start_time": "2023-12-18T18:36:01.303613",
     "status": "completed"
    },
    "tags": []
   },
   "outputs": [
    {
     "name": "stdout",
     "output_type": "stream",
     "text": [
      "ALFA ROMEO 19\n",
      "AUDI 3246\n",
      "AZURE DYNAMICS 8\n",
      "BENTLEY 2\n",
      "BMW 6842\n",
      "CADILLAC 197\n",
      "CHEVROLET 12568\n",
      "CHRYSLER 2859\n",
      "DODGE 2\n",
      "FIAT 795\n",
      "FISKER 17\n",
      "FORD 8009\n",
      "GENESIS 130\n",
      "HONDA 833\n",
      "HYUNDAI 3671\n",
      "JAGUAR 220\n",
      "JEEP 3690\n",
      "KIA 6754\n",
      "LAND ROVER 48\n",
      "LEXUS 201\n",
      "LINCOLN 236\n",
      "LUCID 208\n",
      "MAZDA 269\n",
      "MERCEDES-BENZ 1189\n",
      "MINI 821\n",
      "MITSUBISHI 911\n",
      "NISSAN 13795\n",
      "POLESTAR 804\n",
      "PORSCHE 1065\n",
      "RIVIAN 2934\n",
      "SMART 276\n",
      "SUBARU 690\n",
      "TESLA 72445\n",
      "TH!NK 5\n",
      "TOYOTA 5535\n",
      "VOLKSWAGEN 4424\n",
      "VOLVO 3746\n",
      "WHEEGO ELECTRIC CARS 3\n"
     ]
    }
   ],
   "source": [
    "car_makes=set(df['Make'])\n",
    "df_car_makes=[]\n",
    "new_df={}\n",
    "for car in car_makes:\n",
    "    df_car_makes=df[df['Make']==car]\n",
    "    new_df[car]=len(df_car_makes)\n",
    "    #print(car, '\\t\\t: ', len(df_car_makes))\n",
    "#print(dict(sorted(new_df.items())))\n",
    "for i in dict(sorted(new_df.items())):\n",
    "    print(i, new_df[i])"
   ]
  },
  {
   "cell_type": "code",
   "execution_count": null,
   "id": "2f40df2c",
   "metadata": {
    "papermill": {
     "duration": 0.006372,
     "end_time": "2023-12-18T18:36:02.574012",
     "exception": false,
     "start_time": "2023-12-18T18:36:02.567640",
     "status": "completed"
    },
    "tags": []
   },
   "outputs": [],
   "source": []
  }
 ],
 "metadata": {
  "kaggle": {
   "accelerator": "none",
   "dataSources": [
    {
     "datasetId": 4067240,
     "sourceId": 7064135,
     "sourceType": "datasetVersion"
    }
   ],
   "dockerImageVersionId": 30615,
   "isGpuEnabled": false,
   "isInternetEnabled": false,
   "language": "python",
   "sourceType": "notebook"
  },
  "kernelspec": {
   "display_name": "Python 3",
   "language": "python",
   "name": "python3"
  },
  "language_info": {
   "codemirror_mode": {
    "name": "ipython",
    "version": 3
   },
   "file_extension": ".py",
   "mimetype": "text/x-python",
   "name": "python",
   "nbconvert_exporter": "python",
   "pygments_lexer": "ipython3",
   "version": "3.10.12"
  },
  "papermill": {
   "default_parameters": {},
   "duration": 9.095003,
   "end_time": "2023-12-18T18:36:03.204283",
   "environment_variables": {},
   "exception": null,
   "input_path": "__notebook__.ipynb",
   "output_path": "__notebook__.ipynb",
   "parameters": {},
   "start_time": "2023-12-18T18:35:54.109280",
   "version": "2.4.0"
  }
 },
 "nbformat": 4,
 "nbformat_minor": 5
}
