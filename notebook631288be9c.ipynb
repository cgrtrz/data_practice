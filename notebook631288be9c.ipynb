{
 "cells": [
  {
   "cell_type": "code",
   "execution_count": 1,
   "id": "2ddc5ce8",
   "metadata": {
    "execution": {
     "iopub.execute_input": "2023-12-17T07:47:01.987677Z",
     "iopub.status.busy": "2023-12-17T07:47:01.986855Z",
     "iopub.status.idle": "2023-12-17T07:47:03.022878Z",
     "shell.execute_reply": "2023-12-17T07:47:03.021583Z"
    },
    "papermill": {
     "duration": 1.045007,
     "end_time": "2023-12-17T07:47:03.025883",
     "exception": false,
     "start_time": "2023-12-17T07:47:01.980876",
     "status": "completed"
    },
    "tags": []
   },
   "outputs": [],
   "source": [
    "import numpy as np\n",
    "import matplotlib as plt\n",
    "import pandas as pd\n",
    "import os"
   ]
  },
  {
   "cell_type": "code",
   "execution_count": 2,
   "id": "dd59bb47",
   "metadata": {
    "execution": {
     "iopub.execute_input": "2023-12-17T07:47:03.034059Z",
     "iopub.status.busy": "2023-12-17T07:47:03.033384Z",
     "iopub.status.idle": "2023-12-17T07:47:03.047110Z",
     "shell.execute_reply": "2023-12-17T07:47:03.045424Z"
    },
    "papermill": {
     "duration": 0.021071,
     "end_time": "2023-12-17T07:47:03.050088",
     "exception": false,
     "start_time": "2023-12-17T07:47:03.029017",
     "status": "completed"
    },
    "tags": []
   },
   "outputs": [
    {
     "name": "stdout",
     "output_type": "stream",
     "text": [
      "/kaggle/input/elecrict-vehicle/Electric_Vehicle_Population_Data.csv\n"
     ]
    }
   ],
   "source": [
    "for dirname, _, filenames in os.walk('/kaggle/input'):\n",
    "    for filename in filenames:\n",
    "        print(os.path.join(dirname, filename))"
   ]
  },
  {
   "cell_type": "code",
   "execution_count": 3,
   "id": "da5a42fb",
   "metadata": {
    "execution": {
     "iopub.execute_input": "2023-12-17T07:47:03.058125Z",
     "iopub.status.busy": "2023-12-17T07:47:03.057628Z",
     "iopub.status.idle": "2023-12-17T07:47:04.269778Z",
     "shell.execute_reply": "2023-12-17T07:47:04.268170Z"
    },
    "papermill": {
     "duration": 1.21926,
     "end_time": "2023-12-17T07:47:04.272442",
     "exception": false,
     "start_time": "2023-12-17T07:47:03.053182",
     "status": "completed"
    },
    "tags": []
   },
   "outputs": [
    {
     "data": {
      "text/html": [
       "<div>\n",
       "<style scoped>\n",
       "    .dataframe tbody tr th:only-of-type {\n",
       "        vertical-align: middle;\n",
       "    }\n",
       "\n",
       "    .dataframe tbody tr th {\n",
       "        vertical-align: top;\n",
       "    }\n",
       "\n",
       "    .dataframe thead th {\n",
       "        text-align: right;\n",
       "    }\n",
       "</style>\n",
       "<table border=\"1\" class=\"dataframe\">\n",
       "  <thead>\n",
       "    <tr style=\"text-align: right;\">\n",
       "      <th></th>\n",
       "      <th>VIN (1-10)</th>\n",
       "      <th>County</th>\n",
       "      <th>City</th>\n",
       "      <th>State</th>\n",
       "      <th>Postal Code</th>\n",
       "      <th>Model Year</th>\n",
       "      <th>Make</th>\n",
       "      <th>Model</th>\n",
       "      <th>Electric Vehicle Type</th>\n",
       "      <th>Clean Alternative Fuel Vehicle (CAFV) Eligibility</th>\n",
       "      <th>Electric Range</th>\n",
       "      <th>Base MSRP</th>\n",
       "      <th>Legislative District</th>\n",
       "      <th>DOL Vehicle ID</th>\n",
       "      <th>Vehicle Location</th>\n",
       "      <th>Electric Utility</th>\n",
       "      <th>2020 Census Tract</th>\n",
       "    </tr>\n",
       "  </thead>\n",
       "  <tbody>\n",
       "    <tr>\n",
       "      <th>0</th>\n",
       "      <td>2C4RC1N71H</td>\n",
       "      <td>Kitsap</td>\n",
       "      <td>Bremerton</td>\n",
       "      <td>WA</td>\n",
       "      <td>98311.0</td>\n",
       "      <td>2017</td>\n",
       "      <td>CHRYSLER</td>\n",
       "      <td>PACIFICA</td>\n",
       "      <td>Plug-in Hybrid Electric Vehicle (PHEV)</td>\n",
       "      <td>Clean Alternative Fuel Vehicle Eligible</td>\n",
       "      <td>33</td>\n",
       "      <td>0</td>\n",
       "      <td>23.0</td>\n",
       "      <td>349437882</td>\n",
       "      <td>POINT (-122.6466274 47.6341188)</td>\n",
       "      <td>PUGET SOUND ENERGY INC</td>\n",
       "      <td>5.303509e+10</td>\n",
       "    </tr>\n",
       "    <tr>\n",
       "      <th>1</th>\n",
       "      <td>2C4RC1N7XL</td>\n",
       "      <td>Stevens</td>\n",
       "      <td>Colville</td>\n",
       "      <td>WA</td>\n",
       "      <td>99114.0</td>\n",
       "      <td>2020</td>\n",
       "      <td>CHRYSLER</td>\n",
       "      <td>PACIFICA</td>\n",
       "      <td>Plug-in Hybrid Electric Vehicle (PHEV)</td>\n",
       "      <td>Clean Alternative Fuel Vehicle Eligible</td>\n",
       "      <td>32</td>\n",
       "      <td>0</td>\n",
       "      <td>7.0</td>\n",
       "      <td>154690532</td>\n",
       "      <td>POINT (-117.90431 48.547075)</td>\n",
       "      <td>AVISTA CORP</td>\n",
       "      <td>5.306595e+10</td>\n",
       "    </tr>\n",
       "    <tr>\n",
       "      <th>2</th>\n",
       "      <td>KNDC3DLCXN</td>\n",
       "      <td>Yakima</td>\n",
       "      <td>Yakima</td>\n",
       "      <td>WA</td>\n",
       "      <td>98908.0</td>\n",
       "      <td>2022</td>\n",
       "      <td>KIA</td>\n",
       "      <td>EV6</td>\n",
       "      <td>Battery Electric Vehicle (BEV)</td>\n",
       "      <td>Eligibility unknown as battery range has not b...</td>\n",
       "      <td>0</td>\n",
       "      <td>0</td>\n",
       "      <td>14.0</td>\n",
       "      <td>219969144</td>\n",
       "      <td>POINT (-120.6027202 46.5965625)</td>\n",
       "      <td>PACIFICORP</td>\n",
       "      <td>5.307700e+10</td>\n",
       "    </tr>\n",
       "    <tr>\n",
       "      <th>3</th>\n",
       "      <td>5YJ3E1EA0J</td>\n",
       "      <td>Kitsap</td>\n",
       "      <td>Bainbridge Island</td>\n",
       "      <td>WA</td>\n",
       "      <td>98110.0</td>\n",
       "      <td>2018</td>\n",
       "      <td>TESLA</td>\n",
       "      <td>MODEL 3</td>\n",
       "      <td>Battery Electric Vehicle (BEV)</td>\n",
       "      <td>Clean Alternative Fuel Vehicle Eligible</td>\n",
       "      <td>215</td>\n",
       "      <td>0</td>\n",
       "      <td>23.0</td>\n",
       "      <td>476786887</td>\n",
       "      <td>POINT (-122.5235781 47.6293323)</td>\n",
       "      <td>PUGET SOUND ENERGY INC</td>\n",
       "      <td>5.303509e+10</td>\n",
       "    </tr>\n",
       "    <tr>\n",
       "      <th>4</th>\n",
       "      <td>1N4AZ1CP7J</td>\n",
       "      <td>Thurston</td>\n",
       "      <td>Tumwater</td>\n",
       "      <td>WA</td>\n",
       "      <td>98501.0</td>\n",
       "      <td>2018</td>\n",
       "      <td>NISSAN</td>\n",
       "      <td>LEAF</td>\n",
       "      <td>Battery Electric Vehicle (BEV)</td>\n",
       "      <td>Clean Alternative Fuel Vehicle Eligible</td>\n",
       "      <td>151</td>\n",
       "      <td>0</td>\n",
       "      <td>35.0</td>\n",
       "      <td>201185253</td>\n",
       "      <td>POINT (-122.89692 47.043535)</td>\n",
       "      <td>PUGET SOUND ENERGY INC</td>\n",
       "      <td>5.306701e+10</td>\n",
       "    </tr>\n",
       "  </tbody>\n",
       "</table>\n",
       "</div>"
      ],
      "text/plain": [
       "   VIN (1-10)    County               City State  Postal Code  Model Year  \\\n",
       "0  2C4RC1N71H    Kitsap          Bremerton    WA      98311.0        2017   \n",
       "1  2C4RC1N7XL   Stevens           Colville    WA      99114.0        2020   \n",
       "2  KNDC3DLCXN    Yakima             Yakima    WA      98908.0        2022   \n",
       "3  5YJ3E1EA0J    Kitsap  Bainbridge Island    WA      98110.0        2018   \n",
       "4  1N4AZ1CP7J  Thurston           Tumwater    WA      98501.0        2018   \n",
       "\n",
       "       Make     Model                   Electric Vehicle Type  \\\n",
       "0  CHRYSLER  PACIFICA  Plug-in Hybrid Electric Vehicle (PHEV)   \n",
       "1  CHRYSLER  PACIFICA  Plug-in Hybrid Electric Vehicle (PHEV)   \n",
       "2       KIA       EV6          Battery Electric Vehicle (BEV)   \n",
       "3     TESLA   MODEL 3          Battery Electric Vehicle (BEV)   \n",
       "4    NISSAN      LEAF          Battery Electric Vehicle (BEV)   \n",
       "\n",
       "   Clean Alternative Fuel Vehicle (CAFV) Eligibility  Electric Range  \\\n",
       "0            Clean Alternative Fuel Vehicle Eligible              33   \n",
       "1            Clean Alternative Fuel Vehicle Eligible              32   \n",
       "2  Eligibility unknown as battery range has not b...               0   \n",
       "3            Clean Alternative Fuel Vehicle Eligible             215   \n",
       "4            Clean Alternative Fuel Vehicle Eligible             151   \n",
       "\n",
       "   Base MSRP  Legislative District  DOL Vehicle ID  \\\n",
       "0          0                  23.0       349437882   \n",
       "1          0                   7.0       154690532   \n",
       "2          0                  14.0       219969144   \n",
       "3          0                  23.0       476786887   \n",
       "4          0                  35.0       201185253   \n",
       "\n",
       "                  Vehicle Location        Electric Utility  2020 Census Tract  \n",
       "0  POINT (-122.6466274 47.6341188)  PUGET SOUND ENERGY INC       5.303509e+10  \n",
       "1     POINT (-117.90431 48.547075)             AVISTA CORP       5.306595e+10  \n",
       "2  POINT (-120.6027202 46.5965625)              PACIFICORP       5.307700e+10  \n",
       "3  POINT (-122.5235781 47.6293323)  PUGET SOUND ENERGY INC       5.303509e+10  \n",
       "4     POINT (-122.89692 47.043535)  PUGET SOUND ENERGY INC       5.306701e+10  "
      ]
     },
     "execution_count": 3,
     "metadata": {},
     "output_type": "execute_result"
    }
   ],
   "source": [
    "df=pd.read_csv('/kaggle/input/elecrict-vehicle/Electric_Vehicle_Population_Data.csv')\n",
    "df.head()"
   ]
  },
  {
   "cell_type": "code",
   "execution_count": 4,
   "id": "72e5fcab",
   "metadata": {
    "execution": {
     "iopub.execute_input": "2023-12-17T07:47:04.281064Z",
     "iopub.status.busy": "2023-12-17T07:47:04.280629Z",
     "iopub.status.idle": "2023-12-17T07:47:04.476446Z",
     "shell.execute_reply": "2023-12-17T07:47:04.474817Z"
    },
    "papermill": {
     "duration": 0.203663,
     "end_time": "2023-12-17T07:47:04.479475",
     "exception": false,
     "start_time": "2023-12-17T07:47:04.275812",
     "status": "completed"
    },
    "tags": []
   },
   "outputs": [
    {
     "name": "stdout",
     "output_type": "stream",
     "text": [
      "<class 'pandas.core.frame.DataFrame'>\n",
      "RangeIndex: 159467 entries, 0 to 159466\n",
      "Data columns (total 17 columns):\n",
      " #   Column                                             Non-Null Count   Dtype  \n",
      "---  ------                                             --------------   -----  \n",
      " 0   VIN (1-10)                                         159467 non-null  object \n",
      " 1   County                                             159463 non-null  object \n",
      " 2   City                                               159463 non-null  object \n",
      " 3   State                                              159467 non-null  object \n",
      " 4   Postal Code                                        159463 non-null  float64\n",
      " 5   Model Year                                         159467 non-null  int64  \n",
      " 6   Make                                               159467 non-null  object \n",
      " 7   Model                                              159467 non-null  object \n",
      " 8   Electric Vehicle Type                              159467 non-null  object \n",
      " 9   Clean Alternative Fuel Vehicle (CAFV) Eligibility  159467 non-null  object \n",
      " 10  Electric Range                                     159467 non-null  int64  \n",
      " 11  Base MSRP                                          159467 non-null  int64  \n",
      " 12  Legislative District                               159106 non-null  float64\n",
      " 13  DOL Vehicle ID                                     159467 non-null  int64  \n",
      " 14  Vehicle Location                                   159458 non-null  object \n",
      " 15  Electric Utility                                   159463 non-null  object \n",
      " 16  2020 Census Tract                                  159463 non-null  float64\n",
      "dtypes: float64(3), int64(4), object(10)\n",
      "memory usage: 20.7+ MB\n"
     ]
    }
   ],
   "source": [
    "df.info()"
   ]
  },
  {
   "cell_type": "code",
   "execution_count": null,
   "id": "2cee4023",
   "metadata": {
    "papermill": {
     "duration": 0.003122,
     "end_time": "2023-12-17T07:47:04.486207",
     "exception": false,
     "start_time": "2023-12-17T07:47:04.483085",
     "status": "completed"
    },
    "tags": []
   },
   "outputs": [],
   "source": []
  }
 ],
 "metadata": {
  "kaggle": {
   "accelerator": "none",
   "dataSources": [
    {
     "datasetId": 4067240,
     "sourceId": 7064135,
     "sourceType": "datasetVersion"
    }
   ],
   "dockerImageVersionId": 30615,
   "isGpuEnabled": false,
   "isInternetEnabled": false,
   "language": "python",
   "sourceType": "notebook"
  },
  "kernelspec": {
   "display_name": "Python 3",
   "language": "python",
   "name": "python3"
  },
  "language_info": {
   "codemirror_mode": {
    "name": "ipython",
    "version": 3
   },
   "file_extension": ".py",
   "mimetype": "text/x-python",
   "name": "python",
   "nbconvert_exporter": "python",
   "pygments_lexer": "ipython3",
   "version": "3.10.12"
  },
  "papermill": {
   "default_parameters": {},
   "duration": 7.01272,
   "end_time": "2023-12-17T07:47:05.012793",
   "environment_variables": {},
   "exception": null,
   "input_path": "__notebook__.ipynb",
   "output_path": "__notebook__.ipynb",
   "parameters": {},
   "start_time": "2023-12-17T07:46:58.000073",
   "version": "2.4.0"
  }
 },
 "nbformat": 4,
 "nbformat_minor": 5
}
